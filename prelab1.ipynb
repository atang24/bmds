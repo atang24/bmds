{
  "cells": [
    {
      "cell_type": "markdown",
      "metadata": {
        "id": "AWm3bAiQfb34"
      },
      "source": [
        "# Names (Enter your names below)\n",
        "**Your Name and JHED:** Andy Tang atang24\n",
        "\n",
        "**Partner's Name and JHED (If applicable):**  "
      ]
    },
    {
      "cell_type": "markdown",
      "metadata": {
        "id": "n5Kb_BH4fb38"
      },
      "source": [
        "# Prelab 1: Introduction to Digital Signal Processing in Python\n",
        "\n",
        "By **Benjamín Béjar Haro** and edited by **Kwame Kutten**"
      ]
    },
    {
      "cell_type": "markdown",
      "metadata": {
        "id": "klHm1UpWfb39"
      },
      "source": [
        "# This is a Jupyter Notebook!\n",
        "Jupyter Notebooks are essentially interactive documents where you can have text (using the Markdown language) and Python code. It is a very powerful tool for analyzing, displaying, and presenting data. In this basic tutorial we will learn some very basic concepts about Python programming language. For more details, we refer to the official site [www.python.org](www.python.org)"
      ]
    },
    {
      "cell_type": "markdown",
      "metadata": {
        "id": "tMSpoKgPfb3-"
      },
      "source": [
        "# Markdown basics\n",
        "By double-clicking this cell you will learn the basic syntaxt of Markdown.\n",
        "\n",
        "## This is a level 2 heading\n",
        "### This is a level 3 heading\n",
        "This is some plain text that forms a paragraph.\n",
        "Add emphasis via **bold** and __bold__, or *italic* and _italic_.\n",
        "Paragraphs must be separated by an empty line.\n",
        "\n",
        "* This is the first item in a list.\n",
        "* Item 2.\n",
        "\n",
        "You can also include hyperlinks [to a website](https://www.google.com)\n",
        "\n",
        "Inline code uses single backticks: `foo()`, and code blocks use triple backticks:\n",
        "```\n",
        "# My first Python program\n",
        "print(\"Hello World!\")\n",
        "```\n",
        "\n",
        "You can display math equations using LaTeX ([Here's a LaTeX tutorial](https://linuxhint.com/use-latex-jupyter-notebook/)):\n",
        "\n",
        "$$f(x) = \\sin(x)$$\n",
        "\n"
      ]
    },
    {
      "cell_type": "markdown",
      "metadata": {
        "id": "9l9FqpUnfb3_"
      },
      "source": [
        "Adding an image is easy: ![JHU BME](data:image/png;base64,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)\n",
        "\n",
        "Further details can be found in this guide [Markdown Guide](https://www.markdownguide.org/basic-syntax/)"
      ]
    },
    {
      "cell_type": "markdown",
      "metadata": {
        "id": "yd5p8gYWfb4B"
      },
      "source": [
        "# Python basics\n",
        "\n",
        "We now give some basic examples on how to use and manipulate variables in Python.\n",
        "\n",
        "### Numbers and arithmetic operations\n"
      ]
    },
    {
      "cell_type": "code",
      "execution_count": null,
      "metadata": {
        "id": "8Se84D8pfb4C"
      },
      "outputs": [],
      "source": [
        "# Comments in Python start with #\n",
        "\n",
        "\"\"\"\n",
        "\n",
        "Block comments use triple quotation marks.\n",
        "And can contain line-breaks\n",
        "\n",
        "\"\"\"\n",
        "\n",
        "# variables can be defined\n",
        "a = 2 # this is a float\n",
        "b = 3\n",
        "\n",
        "# we can now do some operations on those\n",
        "c = a + b\n",
        "print(\"The value of a plus b is {}\".format(c))"
      ]
    },
    {
      "cell_type": "markdown",
      "metadata": {
        "id": "8aNHL7z5fb4E"
      },
      "source": [
        "### Lists\n",
        "\n",
        "Lists are very powerful objects that can contain any other Python object, even of different type even though we will typically use lists to contain objects of the same type. "
      ]
    },
    {
      "cell_type": "code",
      "execution_count": 1,
      "metadata": {
        "scrolled": true,
        "colab": {
          "base_uri": "https://localhost:8080/"
        },
        "id": "5GPI7HFofb4F",
        "outputId": "9c452b86-9454-43b3-c966-7ea41cbf8b02"
      },
      "outputs": [
        {
          "output_type": "stream",
          "name": "stdout",
          "text": [
            "This is a list of 4 elements\n",
            "\n"
          ]
        }
      ],
      "source": [
        "# Lists are defined using brackets\n",
        "mylist = [] # this is an empty list\n",
        "\n",
        "# a list of numbers and strings\n",
        "mylist = [1,2,3,'five']\n",
        "\n",
        "print(\"This is a list of {} elements\\n\".format(len(mylist)))"
      ]
    },
    {
      "cell_type": "markdown",
      "metadata": {
        "id": "t_pLQ0bFfb4G"
      },
      "source": [
        "You can easily iterate over the elements of a list using a *for* loop."
      ]
    },
    {
      "cell_type": "code",
      "execution_count": null,
      "metadata": {
        "scrolled": true,
        "id": "Jn6UznYTfb4G"
      },
      "outputs": [],
      "source": [
        "# iterate over a list\n",
        "for item in mylist:\n",
        "    print(item)"
      ]
    },
    {
      "cell_type": "markdown",
      "metadata": {
        "id": "KFqHz5nBfb4H"
      },
      "source": [
        "In Python **lists are indexed starting from 0**."
      ]
    },
    {
      "cell_type": "code",
      "execution_count": null,
      "metadata": {
        "id": "LkXOcF-_fb4H"
      },
      "outputs": [],
      "source": [
        "print(mylist)\n",
        "print('mylist[0] =', mylist[0])\n",
        "print('mylist[1] =', mylist[1])"
      ]
    },
    {
      "cell_type": "markdown",
      "metadata": {
        "id": "lKzHdOxsfb4I"
      },
      "source": [
        "We can add a new element to the list using the `append` method"
      ]
    },
    {
      "cell_type": "code",
      "execution_count": null,
      "metadata": {
        "id": "Dq6mD9_Jfb4I"
      },
      "outputs": [],
      "source": [
        "mylist.append('six')"
      ]
    },
    {
      "cell_type": "markdown",
      "metadata": {
        "id": "toXNSJpVfb4J"
      },
      "source": [
        "We can loop over a list by index `i` using the `range` function"
      ]
    },
    {
      "cell_type": "code",
      "execution_count": null,
      "metadata": {
        "id": "4o7whwMyfb4J"
      },
      "outputs": [],
      "source": [
        "# iterate using range\n",
        "for i in range(len(mylist)):\n",
        "    # here i is just a counter, we need to access the list to get its value\n",
        "    print(mylist[i])"
      ]
    },
    {
      "cell_type": "markdown",
      "metadata": {
        "id": "Cj4I7tZWfb4J"
      },
      "source": [
        "### **Exercise 1 [10 points total]**\n",
        "* Create a sequence (list) of numbers corresponding to sampled values of the function $\\sin(2\\pi t)$ over one period, and with a sampling frequency $f_s = 8$ Hz [5 points].\n",
        "\n",
        "* Then print the sequence of values [5 points] \n",
        "\n",
        "\n",
        "In other words, create a sequence:\n",
        "\n",
        "$$x_n = \\sin(2\\pi n T),\\quad n=0,1,\\ldots,\\lfloor f_s\\rfloor,\\quad T = \\frac{1}{f_s},$$\n",
        "\n",
        " where $\\lfloor x \\rfloor$ denotes the largest integer less than or equal to $x$. For evaluating math functions you can use the `math` module of Python. You will need to import the corresponding module before invoking the `sin()` function as shown in the example below:\n",
        "```\n",
        "import math\n",
        "\n",
        "x = math.sin(math.pi/2)\n",
        "\n",
        "print(x)\n",
        "\n",
        "```\n"
      ]
    },
    {
      "cell_type": "code",
      "execution_count": 4,
      "metadata": {
        "colab": {
          "base_uri": "https://localhost:8080/"
        },
        "id": "5-KnCYWofb4J",
        "outputId": "3c6d4b29-c064-4960-d575-72ea645f0637"
      },
      "outputs": [
        {
          "output_type": "stream",
          "name": "stdout",
          "text": [
            "1.0\n"
          ]
        },
        {
          "output_type": "execute_result",
          "data": {
            "text/plain": [
              "[0.0,\n",
              " 0.7071067811865475,\n",
              " 1.0,\n",
              " 0.7071067811865476,\n",
              " 1.2246467991473532e-16,\n",
              " -0.7071067811865475,\n",
              " -1.0,\n",
              " -0.7071067811865477,\n",
              " -2.4492935982947064e-16]"
            ]
          },
          "metadata": {},
          "execution_count": 4
        }
      ],
      "source": [
        "# import math module to call sin() function\n",
        "import math\n",
        "\n",
        "# evaluate and print sin(pi/2)\n",
        "print(math.sin(math.pi/2))\n",
        "\n",
        "\"\"\"\n",
        "Write your code here for exercise 1\n",
        "\"\"\"\n",
        "\n",
        "fs = 8\n",
        "list = []\n",
        "for i in range(9):\n",
        "  list.append(math.sin(math.pi*2*i*(1/fs)))\n",
        "list\n"
      ]
    },
    {
      "cell_type": "markdown",
      "metadata": {
        "id": "4sTUI5PMfb4K"
      },
      "source": [
        "### Modules and basic plotting\n",
        "Many libraries and added functionalities are available in Python through \"modules\". A module contains a library of objects and functions with specialized purpose. For instance, the `numpy` module allows you to do vector-oriented numerical manipulations similar to MATLAB. Another module that is relevant for this class is the scikit-learn `sklearn` library which implements many machine learning methods for data analysis, clustering, and classification. In order to be able to use a module you should use the `import` command:\n",
        "\n",
        "```\n",
        "# this command imports all numpy library and it will be referred to as np\n",
        "import numpy as np\n",
        "\n",
        "# create an 10x1 dimensional array of zeros\n",
        "zero_array = np.zeros((10,1))\n",
        "\n",
        "# the command below import the svm object classifier from sklearn\n",
        "from sklearn import svm\n",
        "\n",
        "```\n",
        "You should search the documentation for specific modules in order to see how to use it.\n",
        "\n",
        "Data visualization is crucial for any data analysis task. In Python we have the `matplotlib` library to produce nice plots. The `seaborn` module is yet another module built on top of `matplotlib` that produces nice plots with an easy interface."
      ]
    },
    {
      "cell_type": "code",
      "execution_count": 5,
      "metadata": {
        "colab": {
          "base_uri": "https://localhost:8080/",
          "height": 313
        },
        "id": "oIbwH5Ovfb4K",
        "outputId": "93e62120-1386-44b6-eb5c-2f3250657aa3"
      },
      "outputs": [
        {
          "output_type": "execute_result",
          "data": {
            "text/plain": [
              "Text(0, 0.5, 'amplitude [V]')"
            ]
          },
          "metadata": {},
          "execution_count": 5
        },
        {
          "output_type": "display_data",
          "data": {
            "text/plain": [
              "<Figure size 432x288 with 1 Axes>"
            ],
            "image/png": "[encoded data removed]"
          },
          "metadata": {
            "needs_background": "light"
          }
        }
      ],
      "source": [
        "# import modules\n",
        "import matplotlib.pyplot as plt\n",
        "import numpy as np\n",
        "\n",
        "# this line is needed to display the plots in the notebook\n",
        "%matplotlib inline\n",
        "\n",
        "# create a sinusoidal signal\n",
        "N = 64\n",
        "t = np.arange(N)\n",
        "x = np.sin(2*np.pi*t/N)\n",
        "\n",
        "# display signal\n",
        "plt.plot(t/N,x)\n",
        "plt.legend([r'$\\sin(2\\pi t)$'])\n",
        "plt.title('Example Plot')\n",
        "plt.xlabel('time [s]')\n",
        "plt.ylabel('amplitude [V]')\n"
      ]
    },
    {
      "cell_type": "markdown",
      "metadata": {
        "id": "iv37PdgQfb4L"
      },
      "source": [
        "### Functions\n",
        "Functions in Python are defined using the keyword `def`. Below, you have an example on how to define a function that computes the average of two numbers and returns the result of averaging.\n",
        "```\n",
        "def mean(a,b):\n",
        "    mval = (a + b)/2\n",
        "    return mval\n",
        "```\n",
        "Please, keep in mind indentation. Python is very strict about indentation and your code won't compile if not properly indented.\n",
        "\n",
        "You can now call your function:\n",
        "\n",
        "```\n",
        "mean_value = mean(1,2)\n",
        "\n",
        "```"
      ]
    },
    {
      "cell_type": "markdown",
      "metadata": {
        "id": "aQdCbXXGfb4L"
      },
      "source": [
        "### **Exercise 2 [20 points]** \n",
        " * Create two sequences $x_n$ and $y_n$ by sampling $\\sin(2\\pi t)$ and $\\cos(4\\pi t)$ with sampling rate $f_s = 64$ Hz, and store them in two separate lists. [3 points each, 6 total]\n",
        " * Write a function `add_sequence(x,y)` that returns the addition of the two lists. [3 points]\n",
        " * Plot $x_n$, $y_n$ and $x_n+y_n$ [3 points each, 9 total]\n",
        " * Adding appropriate labels to x-axis and y-axis [1 point each, 2 total]"
      ]
    },
    {
      "cell_type": "code",
      "execution_count": 32,
      "metadata": {
        "colab": {
          "base_uri": "https://localhost:8080/",
          "height": 315
        },
        "id": "LjZTBgJ5fb4M",
        "outputId": "48416cd7-6e8a-4f2e-bd0f-e6f2ea533127"
      },
      "outputs": [
        {
          "output_type": "execute_result",
          "data": {
            "text/plain": [
              "Text(0, 0.5, 'amplitude [V]')"
            ]
          },
          "metadata": {},
          "execution_count": 32
        },
        {
          "output_type": "display_data",
          "data": {
            "text/plain": [
              "<Figure size 432x288 with 1 Axes>"
            ],
            "image/png": "[encoded data removed]"
          },
          "metadata": {
            "needs_background": "light"
          }
        }
      ],
      "source": [
        "\"\"\"\n",
        "Write your code here\n",
        "\"\"\"\n",
        "\n",
        "import matplotlib.pyplot as plt\n",
        "import numpy as np\n",
        "\n",
        "%matplotlib inline\n",
        "\n",
        "xn = []\n",
        "yn = []\n",
        "t = np.arange(65)\n",
        "fs = 64\n",
        "for i in range(65):\n",
        "  xn.append(math.sin(math.pi*2*i*(1/fs)))\n",
        "  yn.append(math.cos(math.pi*4*i*(1/fs)))\n",
        "\n",
        "def add_sequence(x,y):\n",
        "  out = []\n",
        "  for i in range(len(x)):\n",
        "    out.append(x[i] + y[i])\n",
        "  return out\n",
        "\n",
        "z = add_sequence(xn, yn)\n",
        "\n",
        "plt.plot(t/fs,xn,label=\"$x_n$\")\n",
        "\n",
        "plt.plot(t/fs,yn,label=\"$y_n$\")\n",
        "\n",
        "plt.plot(t/fs,z,label=\"$x_n + y_n$\")\n",
        "plt.legend(loc = \"lower left\")\n",
        "plt.title('Sampling of $x_n$ and $y_n$ and $x_n + y_n$ over 1 s')\n",
        "plt.xlabel('time [s]')\n",
        "plt.ylabel('amplitude [V]')"
      ]
    },
    {
      "cell_type": "markdown",
      "metadata": {
        "id": "61nHKZu_fb4M"
      },
      "source": [
        "# Digital signal processing\n",
        "A digital signal can be thought as a function defined over a discrete (but possibly infinite) set. For instance, we can obtain a digital signal by recording (sampling) a continuous-time signal at regular sampling intervals. Digital signal processing is a discipline at the foundations of Data Science that deals with the representation, information extraction (estimation), and reconstruction of digital signals. A very powerful tool to the analysis and manipulation of discrete signals is to use linear shift-invariant operators also called filters (see background notes on digital signal processing in the manual). We will get familiar to basic filtering operations using the `numpy` module.\n",
        "\n",
        "### Filtering and convolution\n",
        "The input-output relationship of a linear shift-invariant filter is determined by the __convolution__ of the input signal $x_n$ with the impulse response of the filter $h_n$:\n",
        "\n",
        "$$y_n = x_n\\ast h_n = \\sum_{k\\in\\mathbb{Z}} h_k x_{n-k} = \\sum_{k\\in\\mathbb{Z}} x_k h_{n-k}$$\n",
        "\n",
        "### Discrete-time Fourier Transform (DTFT)\n",
        "Similarly to continuous signals, we can also define the Fourier transform for discrete signals. For a sequence $x_n$, its DTFT $X(e^{j\\omega})$ is a continuous and $2\\pi$ periodic signal given by:\n",
        "\n",
        "$$X(\\omega) = \\sum_{n\\in\\mathbb{Z}}x_n e^{-j\\omega n}$$\n"
      ]
    },
    {
      "cell_type": "markdown",
      "metadata": {
        "id": "L3tQl4Ytfb4M"
      },
      "source": [
        "### **Exercise 3 [20 points]**\n",
        "Using the definition of the DTFT show the property that convolution in time is equivalent to multiplication in the frequency domain. In other words, show that for $y_n = x_n\\ast h_n$, its DTFT $Y(\\omega) = X(\\omega)H(\\omega)$"
      ]
    },
    {
      "cell_type": "markdown",
      "metadata": {
        "id": "Q72XjTFZfb4M"
      },
      "source": [
        "\n",
        "\n",
        "*Write your proof here*\n",
        "\n",
        "if\n",
        "\n",
        "$y_n = x_n \\ast h_n = \\displaystyle\\sum_{kϵ\\mathbb{Z}}h_kx_{n-k} = \\displaystyle\\sum_{kϵ\\mathbb{Z}}x_kh_{n-k}$\n",
        "\n",
        "then the DTFT of $y_n$ is\n",
        "\n",
        "$Y(ω) = \\displaystyle\\sum_{kϵ\\mathbb{Z}}\\displaystyle\\sum_{kϵ\\mathbb{Z}}x_kh_{n-k}e^{-j}$\n"
      ]
    },
    {
      "cell_type": "markdown",
      "metadata": {
        "id": "HI6RYA7Jfb4N"
      },
      "source": [
        "### Discrete Fourier Transform (DFT)\n",
        "In practice we will be working with finite length (periodic) sequences. For a sequence of $N$ samples of length, we define its DFT as:\n",
        "\n",
        "$$X_k = \\sum_{n=0}^{N-1} x_n e^{-j2\\pi\\frac{nk}{N}},\\quad k=0,\\ldots,N-1.$$\n",
        "\n",
        "Similarly, its inverse operation IDFT is computed as:\n",
        "\n",
        "$$x_n = \\sum_{k=0}^{N-1} X_k e^{j2\\pi\\frac{nk}{N}},\\quad n=0,\\ldots,N-1.$$\n",
        "\n",
        "We can compute the DFT of a seuquence and its inverse using the Fast Fourier Transform (FFT) algorithm, which is an efficient method for computing the DFT. We can compute the (I)DFT using `numpy` as illustrated in the example below."
      ]
    },
    {
      "cell_type": "code",
      "execution_count": 36,
      "metadata": {
        "colab": {
          "base_uri": "https://localhost:8080/",
          "height": 629
        },
        "id": "j-KARHrOfb4N",
        "outputId": "6539cf1a-be91-4c36-8cc7-f852a2dd8338"
      },
      "outputs": [
        {
          "output_type": "stream",
          "name": "stderr",
          "text": [
            "/usr/local/lib/python3.7/dist-packages/ipykernel_launcher.py:14: UserWarning: In Matplotlib 3.3 individual lines on a stem plot will be added as a LineCollection instead of individual lines. This significantly improves the performance of a stem plot. To remove this warning and switch to the new behaviour, set the \"use_line_collection\" keyword argument to True.\n",
            "  \n"
          ]
        },
        {
          "output_type": "display_data",
          "data": {
            "text/plain": [
              "<Figure size 432x288 with 1 Axes>"
            ],
            "image/png": "[encoded data removed]"
          },
          "metadata": {
            "needs_background": "light"
          }
        },
        {
          "output_type": "display_data",
          "data": {
            "text/plain": [
              "<Figure size 432x288 with 1 Axes>"
            ],
            "image/png": "[encoded data removed]"
          },
          "metadata": {
            "needs_background": "light"
          }
        }
      ],
      "source": [
        "# import modules\n",
        "import numpy as np\n",
        "\n",
        "# length of the signal\n",
        "N = 64\n",
        "\n",
        "# create an empy signal\n",
        "x = np.zeros(N)\n",
        "# fill-in with ones the first 10 entries\n",
        "x[0:10] = 1\n",
        "\n",
        "# display the sequence\n",
        "plt.figure()\n",
        "plt.stem(x)\n",
        "plt.title('x')\n",
        "plt.xlabel('n')\n",
        "plt.ylabel('amplitude')\n",
        "\n",
        "# compute the FFT\n",
        "X = np.fft.fft(x)\n",
        "\n",
        "# display real and imaginary parts\n",
        "plt.figure()\n",
        "plt.plot(np.real(X))\n",
        "plt.plot(np.imag(X))\n",
        "\n",
        "plt.title('Real and Imaginary part of X')\n",
        "plt.xlabel('k')\n",
        "plt.ylabel('amplitude')\n",
        "plt.legend(['real','imag'])\n",
        "\n",
        "# retrieve the signal back (take the real part to remove numerical errors)\n",
        "x = np.real(np.fft.ifft(X))"
      ]
    },
    {
      "cell_type": "markdown",
      "metadata": {
        "id": "6wHfkh4ifb4N"
      },
      "source": [
        "### **Exercise 4 (20 points).** \n",
        "* Generate two box sequences as defined below [3 points each, 6 total]\n",
        "\n",
        "$$x_n = \\begin{cases}1 &0\\leq n\\leq 10\\\\0 &\\textrm{else}\\end{cases},\\quad h_n = \\begin{cases}1 &0\\leq n\\leq 20\\\\0 &\\textrm{else}\\end{cases},\\quad n = 0,\\ldots,63.$$\n",
        "\n",
        "* Compute $y_n = x_n \\ast h_n$ using `np.convolve` [3 points]\n",
        "* Plot (`plt.stem`) the resulting sequence $y_n$ [3 points]\n",
        "* Compute the DFT $Y_k$ and plot its **magnitude** over the frequency range $[-\\pi,\\pi]$. _(Hint. Use`np.absolute` to find the magnitude and then `np.fft.fftshift` to shift Y to origin)_. [6 points]\n",
        "* Then label the horizontal and vertical axes for this plot [1 point each, 2 total]"
      ]
    },
    {
      "cell_type": "code",
      "execution_count": 46,
      "metadata": {
        "colab": {
          "base_uri": "https://localhost:8080/",
          "height": 647
        },
        "id": "ZczyFxXefb4O",
        "outputId": "ee348188-9d1f-4098-dee3-24c23a2bc27f"
      },
      "outputs": [
        {
          "output_type": "stream",
          "name": "stderr",
          "text": [
            "/usr/local/lib/python3.7/dist-packages/ipykernel_launcher.py:17: UserWarning: In Matplotlib 3.3 individual lines on a stem plot will be added as a LineCollection instead of individual lines. This significantly improves the performance of a stem plot. To remove this warning and switch to the new behaviour, set the \"use_line_collection\" keyword argument to True.\n",
            "/usr/local/lib/python3.7/dist-packages/ipykernel_launcher.py:25: UserWarning: In Matplotlib 3.3 individual lines on a stem plot will be added as a LineCollection instead of individual lines. This significantly improves the performance of a stem plot. To remove this warning and switch to the new behaviour, set the \"use_line_collection\" keyword argument to True.\n"
          ]
        },
        {
          "output_type": "execute_result",
          "data": {
            "text/plain": [
              "Text(0, 0.5, 'amplitude')"
            ]
          },
          "metadata": {},
          "execution_count": 46
        },
        {
          "output_type": "display_data",
          "data": {
            "text/plain": [
              "<Figure size 432x288 with 1 Axes>"
            ],
            "image/png": "[encoded data removed]"
          },
          "metadata": {
            "needs_background": "light"
          }
        },
        {
          "output_type": "display_data",
          "data": {
            "text/plain": [
              "<Figure size 432x288 with 1 Axes>"
            ],
            "image/png": "[encoded data removed]"
          },
          "metadata": {
            "needs_background": "light"
          }
        }
      ],
      "source": [
        "\"\"\"\n",
        "Write your code here\n",
        "\"\"\"\n",
        "import numpy as np\n",
        "import math\n",
        "\n",
        "N = 64\n",
        "xn = np.zeros(N)\n",
        "hn = np.zeros(N)\n",
        "\n",
        "xn[0:10] = 1\n",
        "hn[0:20] = 1\n",
        "\n",
        "yn = np.convolve(xn, hn)\n",
        "\n",
        "plt.figure()\n",
        "plt.stem(yn)\n",
        "plt.title('$yn$')\n",
        "plt.xlabel('n')\n",
        "plt.ylabel('amplitude')\n",
        "\n",
        "Yk = np.fft.fft(yn)\n",
        "x = np.linspace(-math.pi,math.pi, 127)\n",
        "plt.figure()\n",
        "plt.stem(x, np.fft.fftshift(np.absolute(Yk)))\n",
        "plt.title('$Y_k$')\n",
        "plt.xlabel('n')\n",
        "plt.ylabel('amplitude')"
      ]
    },
    {
      "cell_type": "markdown",
      "metadata": {
        "id": "HqCdh5EZfb4O"
      },
      "source": [
        "### Random signal generation\n",
        "In many situations it is of practical importance to generate signals at random (e.g., testing different noise conditions, simulating different realizations of the same experiment, etc). We can use the random submodule of numpy for generating random signals with different distributions [numpy.random](https://docs.scipy.org/doc/numpy-1.16.1/reference/routines.random.html). Below you have some examples on how to generate numbers following different distributions:\n",
        "```\n",
        "# import the sub-module\n",
        "import numpy as np\n",
        "\n",
        "# array of 10 random numbers from uniform distribution on interval [0,1)\n",
        "x = np.random.rand(10)\n",
        "\n",
        "# array of 10 random numbers uniform distribution on interval [-1,1)\n",
        "x = np.random.uniform(-1,1,10)\n",
        "\n",
        "# array of 10 random numbers from a standard normal distribution\n",
        "x = np.random.randn(10)\n",
        "\n",
        "# array of 10 random integers from -2 to 3\n",
        "x = np.random.randint(-2,3,10)\n",
        "\n",
        "\n",
        "```"
      ]
    },
    {
      "cell_type": "markdown",
      "metadata": {
        "id": "tyGdT8DIfb4O"
      },
      "source": [
        "## **Exercise 5 [20 points total].** \n",
        " * Generate three random pairs of $(\\alpha,\\beta)$ of values where $\\alpha,\\beta \\sim \\mathcal{U}(-1,1)$ (uniformly distributed between -1 and 1) [2 points per pair, 6 total]\n",
        " * For each random pair of values generate the sequence defined by the following finite difference equation where the driving noise sequence $\\epsilon_{n}$ consists of independent and identically distributed random numbers from a standard, normal distribution `numpy.random.randn`. [2 points]\n",
        "$$ x_n = \\alpha x_{n-1} + \\beta x_{n-2} + \\epsilon_{n},\\quad x_0=x_1=0,\\quad n=0,1,\\ldots,127, $$\n",
        "\n",
        "\n",
        " * Plot the three time-series on the same figure [2 points each, 6 total]\n",
        " * Include a title [1 point], axes labels [2 points], and a legend that lists the generated  $( \\alpha,\\beta)$ values of each time-series [3 points]."
      ]
    },
    {
      "cell_type": "code",
      "execution_count": null,
      "metadata": {
        "id": "GWEUKhN0fb4O"
      },
      "outputs": [],
      "source": [
        "# fix random number generator seed (reproducibility)\n",
        "np.random.seed(10)\n",
        "\n",
        "\"\"\"\n",
        "Write your code here\n",
        "\"\"\"\n"
      ]
    },
    {
      "cell_type": "markdown",
      "metadata": {
        "id": "7vTS8ocPfb4O"
      },
      "source": [
        "### **Exercise 6 [20 points total]** \n",
        "In this exercise you will perform a basic denoising operation by filtering a noisy signal with a low-pass filter. You are provided with a function `get_noisy_signal()` that returns a signal corrupted with noise. Let a Gaussian filter $g_n$ be defined as:\n",
        "\n",
        "$$g_n = \\frac{1}{K}e^{-(n/\\sigma)^2},\\quad -10\\leq n\\leq10,$$\n",
        "\n",
        "where $\\sigma$ is a parameter and $K = \\sum_{m=-10}^{10} e^{-(m/\\sigma)^2}$. \n",
        "* Filter the signal for three different values of $\\sigma=1,5,10$ [2 points each, 6 total]\n",
        "* Compare the original signal with its three denoised versions by plotting them in the same figure [3 points each, 12 total].\n",
        "* Add labels on both axes [1 point each, 2 points total]."
      ]
    },
    {
      "cell_type": "code",
      "execution_count": null,
      "metadata": {
        "id": "xfnyy7Dlfb4P"
      },
      "outputs": [],
      "source": [
        "# fix random number generator seed (reproducibility)\n",
        "np.random.seed(10)\n",
        "\n",
        "# stepwise function with noise\n",
        "def get_noisy_signal(s=0.2):\n",
        "    \"\"\"\n",
        "    This function generates a signal with a varying amount of noise. The noise\n",
        "    variance is controlled via the input parameter s [s=1 default].\n",
        "    \"\"\"\n",
        "    \n",
        "    # generate signal\n",
        "    N = 128\n",
        "    t = np.arange(N)\n",
        "    x = np.sin(2*np.pi*t/N)\n",
        "    x[80:105] -= 1\n",
        "    \n",
        "    # generate noise\n",
        "    n = s*np.random.randn(128)\n",
        "    \n",
        "    # return noisy signal\n",
        "    return x+n\n",
        "\n",
        "\"\"\"\n",
        "Write your code here\n",
        "\"\"\"\n"
      ]
    },
    {
      "cell_type": "code",
      "execution_count": null,
      "metadata": {
        "id": "LiYZOYxgfb4P"
      },
      "outputs": [],
      "source": []
    }
  ],
  "metadata": {
    "kernelspec": {
      "display_name": "Python 3 (ipykernel)",
      "language": "python",
      "name": "python3"
    },
    "language_info": {
      "codemirror_mode": {
        "name": "ipython",
        "version": 3
      },
      "file_extension": ".py",
      "mimetype": "text/x-python",
      "name": "python",
      "nbconvert_exporter": "python",
      "pygments_lexer": "ipython3",
      "version": "3.10.4"
    },
    "colab": {
      "provenance": []
    }
  },
  "nbformat": 4,
  "nbformat_minor": 0
}